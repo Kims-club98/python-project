{
 "cells": [
  {
   "cell_type": "code",
   "execution_count": 1,
   "id": "b6c76ab7",
   "metadata": {},
   "outputs": [
    {
     "name": "stdout",
     "output_type": "stream",
     "text": [
      "0\n",
      "1\n",
      "2\n",
      "3\n",
      "4\n",
      "5\n"
     ]
    }
   ],
   "source": [
    "for a in [0,1,2,3,4,5]:\n",
    "    print(a)"
   ]
  },
  {
   "cell_type": "code",
   "execution_count": 3,
   "id": "bd2a44fd",
   "metadata": {},
   "outputs": [
    {
     "name": "stdout",
     "output_type": "stream",
     "text": [
      "0\n",
      "1\n",
      "2\n",
      "3\n",
      "4\n",
      "5\n"
     ]
    }
   ],
   "source": [
    "for a in range(0,6,1):\n",
    "    print(a)"
   ]
  },
  {
   "cell_type": "code",
   "execution_count": 10,
   "id": "4f1e0f09",
   "metadata": {},
   "outputs": [
    {
     "name": "stdout",
     "output_type": "stream",
     "text": [
      "3\n",
      "4\n",
      "5\n",
      "6\n",
      "7\n",
      "8\n",
      "9\n",
      "10\n"
     ]
    }
   ],
   "source": [
    "k=int(input('숫자>'))\n",
    "while True:\n",
    "    k=k+1\n",
    "    print(k)\n",
    "    if k>=10:\n",
    "        break\n",
    "\n",
    "\n",
    "\n",
    "\n"
   ]
  },
  {
   "cell_type": "code",
   "execution_count": 15,
   "id": "9c492535",
   "metadata": {},
   "outputs": [
    {
     "name": "stdout",
     "output_type": "stream",
     "text": [
      "[1, 4, 9, 16, 25]\n"
     ]
    }
   ],
   "source": [
    "numbers=[1,2,3,4,5,6]\n",
    "sqare=[i**2 for i in numbers if i<=5] # sqare은 numbers에서 뽑아서 2를 제곱하되 30이하만\n",
    "print(sqare)"
   ]
  },
  {
   "cell_type": "code",
   "execution_count": 17,
   "id": "39164ef4",
   "metadata": {},
   "outputs": [
    {
     "name": "stdout",
     "output_type": "stream",
     "text": [
      "나는■정말■행복합니다\n"
     ]
    }
   ],
   "source": [
    "print('나는','정말','행복합니다',sep='■')\n"
   ]
  },
  {
   "cell_type": "code",
   "execution_count": 18,
   "id": "b5cd726b",
   "metadata": {},
   "outputs": [
    {
     "name": "stdout",
     "output_type": "stream",
     "text": [
      "나는 매우 행복합니다\n"
     ]
    }
   ],
   "source": [
    "print('나는', '매우', '행복합니다')\n"
   ]
  },
  {
   "cell_type": "code",
   "execution_count": 19,
   "id": "ec0227d9",
   "metadata": {},
   "outputs": [
    {
     "name": "stdout",
     "output_type": "stream",
     "text": [
      "나는행복합니다\n"
     ]
    }
   ],
   "source": [
    "print('나는'+'행복합니다')"
   ]
  },
  {
   "cell_type": "code",
   "execution_count": 20,
   "id": "813e8553",
   "metadata": {},
   "outputs": [
    {
     "name": "stdout",
     "output_type": "stream",
     "text": [
      "나는 행복합니다.\n",
      "당신도 그런가요?\n"
     ]
    }
   ],
   "source": [
    "print('나는 행복합니다.\\n당신도 그런가요?')"
   ]
  },
  {
   "cell_type": "code",
   "execution_count": 21,
   "id": "41e9e81b",
   "metadata": {},
   "outputs": [
    {
     "name": "stdout",
     "output_type": "stream",
     "text": [
      "안녕하세요반갑습니다\n"
     ]
    }
   ],
   "source": [
    "print('안녕하세요',end='')\n",
    "print('반갑습니다')"
   ]
  },
  {
   "cell_type": "code",
   "execution_count": 22,
   "id": "c479f8be",
   "metadata": {},
   "outputs": [
    {
     "name": "stdout",
     "output_type": "stream",
     "text": [
      "아이유는 나의 친구입니다.\n"
     ]
    }
   ],
   "source": [
    "name='아이유'\n",
    "print('%s는 나의 친구입니다.'%name)"
   ]
  },
  {
   "cell_type": "code",
   "execution_count": 25,
   "id": "19c2980b",
   "metadata": {},
   "outputs": [
    {
     "name": "stdout",
     "output_type": "stream",
     "text": [
      " 1\n",
      " 2\n",
      " 3\n",
      " 4\n",
      " 5\n",
      " 6\n",
      " 7\n",
      " 8\n",
      " 9\n",
      "10\n",
      "11\n",
      "12\n",
      "13\n",
      "14\n",
      "15\n",
      "16\n",
      "17\n",
      "18\n",
      "19\n",
      "20\n",
      "21\n",
      "22\n",
      "23\n",
      "24\n",
      "25\n",
      "26\n",
      "27\n",
      "28\n",
      "29\n",
      "30\n",
      "31\n",
      "32\n",
      "33\n",
      "34\n",
      "35\n",
      "36\n",
      "37\n",
      "38\n",
      "39\n",
      "40\n",
      "41\n",
      "42\n",
      "43\n",
      "44\n",
      "45\n",
      "46\n",
      "47\n",
      "48\n",
      "49\n",
      "50\n",
      "51\n",
      "52\n",
      "53\n",
      "54\n",
      "55\n",
      "56\n",
      "57\n",
      "58\n",
      "59\n",
      "60\n",
      "61\n",
      "62\n",
      "63\n",
      "64\n",
      "65\n",
      "66\n",
      "67\n",
      "68\n",
      "69\n",
      "70\n",
      "71\n",
      "72\n",
      "73\n",
      "74\n",
      "75\n",
      "76\n",
      "77\n",
      "78\n",
      "79\n",
      "80\n",
      "81\n",
      "82\n",
      "83\n",
      "84\n",
      "85\n",
      "86\n",
      "87\n",
      "88\n",
      "89\n",
      "90\n",
      "91\n",
      "92\n",
      "93\n",
      "94\n",
      "95\n",
      "96\n",
      "97\n",
      "98\n",
      "99\n",
      "100\n",
      "101\n",
      "102\n",
      "103\n",
      "104\n",
      "105\n",
      "106\n",
      "107\n",
      "108\n",
      "109\n",
      "110\n",
      "111\n",
      "112\n",
      "113\n",
      "114\n",
      "115\n",
      "116\n",
      "117\n",
      "118\n",
      "119\n"
     ]
    }
   ],
   "source": [
    "for N in range(1,120):\n",
    "    print(f'{N:2d}')"
   ]
  },
  {
   "cell_type": "code",
   "execution_count": 26,
   "id": "1d1a0407",
   "metadata": {},
   "outputs": [
    {
     "name": "stdout",
     "output_type": "stream",
     "text": [
      "00000\n",
      "00001\n",
      "00002\n",
      "00003\n",
      "00004\n",
      "00005\n",
      "00006\n",
      "00007\n",
      "00008\n",
      "00009\n",
      "00010\n",
      "00011\n"
     ]
    }
   ],
   "source": [
    "for N in range(0,12):\n",
    "    print(f'{N:05d}')"
   ]
  },
  {
   "cell_type": "code",
   "execution_count": 28,
   "id": "e1d2ec88",
   "metadata": {},
   "outputs": [
    {
     "name": "stdout",
     "output_type": "stream",
     "text": [
      "    0\n",
      "    1\n",
      "    2\n",
      "    3\n",
      "    4\n",
      "    5\n",
      "    6\n",
      "    7\n",
      "    8\n",
      "    9\n",
      "   10\n",
      "   11\n"
     ]
    }
   ],
   "source": [
    "for N in range(0,12):\n",
    "    print(f'{N:>5d}')"
   ]
  },
  {
   "cell_type": "code",
   "execution_count": 29,
   "id": "344b6d99",
   "metadata": {},
   "outputs": [
    {
     "name": "stdout",
     "output_type": "stream",
     "text": [
      "3.142\n"
     ]
    }
   ],
   "source": [
    "N=3.141592\n",
    "print(f'{N:.3f}')"
   ]
  },
  {
   "cell_type": "code",
   "execution_count": 30,
   "id": "c51d15d7",
   "metadata": {},
   "outputs": [
    {
     "name": "stdout",
     "output_type": "stream",
     "text": [
      "50,000\n"
     ]
    }
   ],
   "source": [
    "a=50000\n",
    "print(f'{a:,}')"
   ]
  },
  {
   "cell_type": "code",
   "execution_count": 33,
   "id": "e06714e4",
   "metadata": {},
   "outputs": [
    {
     "name": "stdout",
     "output_type": "stream",
     "text": [
      "0x46 0o106 0b1000110\n",
      "46 106 1000110\n"
     ]
    }
   ],
   "source": [
    "a=70\n",
    "print(f'{a:#x}',f'{a:#o}',f'{a:#b}')\n",
    "print(f'{a:x}',f'{a:o}',f'{a:b}')"
   ]
  }
 ],
 "metadata": {
  "kernelspec": {
   "display_name": "Python 3",
   "language": "python",
   "name": "python3"
  },
  "language_info": {
   "codemirror_mode": {
    "name": "ipython",
    "version": 3
   },
   "file_extension": ".py",
   "mimetype": "text/x-python",
   "name": "python",
   "nbconvert_exporter": "python",
   "pygments_lexer": "ipython3",
   "version": "3.10.10"
  }
 },
 "nbformat": 4,
 "nbformat_minor": 5
}
