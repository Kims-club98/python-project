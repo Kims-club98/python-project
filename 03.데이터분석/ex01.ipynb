{
 "cells": [
  {
   "cell_type": "code",
   "execution_count": null,
   "id": "75912d48",
   "metadata": {},
   "outputs": [],
   "source": [
    "print(100+200+300)"
   ]
  }
 ],
 "metadata": {
  "language_info": {
   "name": "python"
  }
 },
 "nbformat": 4,
 "nbformat_minor": 5
}
