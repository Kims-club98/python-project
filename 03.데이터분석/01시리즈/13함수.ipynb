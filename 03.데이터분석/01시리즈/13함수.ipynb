{
 "cells": [
  {
   "cell_type": "code",
   "execution_count": 7,
   "id": "4a6b152d",
   "metadata": {},
   "outputs": [],
   "source": [
    "import pandas as pd"
   ]
  },
  {
   "cell_type": "code",
   "execution_count": null,
   "id": "e71e1884",
   "metadata": {},
   "outputs": [],
   "source": [
    "df=pd.read_csv('data/score.csv',index_col='지원번호')\n",
    "df.reset_index() #index-col 인덱스 제거(적용시 inplace=True)\n",
    "df"
   ]
  },
  {
   "cell_type": "code",
   "execution_count": null,
   "id": "2c65c295",
   "metadata": {},
   "outputs": [],
   "source": [
    "df1=df['이름'] #시리즈(1차항변)\n",
    "df1,type(df1)"
   ]
  },
  {
   "cell_type": "code",
   "execution_count": null,
   "id": "aba70200",
   "metadata": {},
   "outputs": [],
   "source": [
    "df1=df['이름']['1번':'5번'] #원하는 데이터 선택\n",
    "df1,type(df1)"
   ]
  },
  {
   "cell_type": "code",
   "execution_count": null,
   "id": "3c7a51e0",
   "metadata": {},
   "outputs": [],
   "source": [
    "df.loc['1번':'5번','학교':'키'] #기입순서: 행 - 열 순서"
   ]
  },
  {
   "cell_type": "code",
   "execution_count": null,
   "id": "2dc09077",
   "metadata": {},
   "outputs": [],
   "source": [
    "df.loc[['3번','5번'],['이름','키']] #3번 5번의 이름과 키 추출(,:비연속 연결 시 대괄호 2번 작성 중요)"
   ]
  },
  {
   "cell_type": "code",
   "execution_count": null,
   "id": "65b3bb2b",
   "metadata": {},
   "outputs": [],
   "source": [
    "df.iloc[:,3:8]#iloc: 인덱스 번호로 지정함(마지막 행/열 가져오기 유리) :,=전체 가져오기 // 0~8(실 0~7까지 가져옴)"
   ]
  },
  {
   "cell_type": "code",
   "execution_count": null,
   "id": "c127384a",
   "metadata": {},
   "outputs": [],
   "source": [
    "df.iloc[:,-1] #마지막 열을 가져옴"
   ]
  },
  {
   "cell_type": "code",
   "execution_count": null,
   "id": "ddef457c",
   "metadata": {},
   "outputs": [],
   "source": [
    "# 조건문(filt 변수)\n",
    "\n",
    "filt=df['키']>=190\n",
    "filt # T/F여부만 확인 가능\n",
    "df[filt] #해당자 출력\n",
    "df.loc[filt,['이름','키']] #해당자의 일부 항목만 출력"
   ]
  },
  {
   "cell_type": "code",
   "execution_count": null,
   "id": "5cfe80f3",
   "metadata": {},
   "outputs": [],
   "source": [
    "df.info() # python의 type(df)와 같음"
   ]
  },
  {
   "cell_type": "code",
   "execution_count": 28,
   "id": "53618d52",
   "metadata": {},
   "outputs": [],
   "source": [
    "#함수 작성(def)\n",
    "def add_cm(hight):\n",
    "    if isinstance(hight, int): # isinstance: type을 가져오는 함수\n",
    "        return(f'{hight}cm') \n",
    "    else:\n",
    "        return int(hight.replace('cm',''))"
   ]
  },
  {
   "cell_type": "code",
   "execution_count": null,
   "id": "4aca3180",
   "metadata": {},
   "outputs": [
    {
     "name": "stdout",
     "output_type": "stream",
     "text": [
      "165\n"
     ]
    }
   ],
   "source": [
    "print(add_cm('165cm')) #문자면 cm을 제거 / 정수면 cm을 넣음"
   ]
  },
  {
   "cell_type": "code",
   "execution_count": null,
   "id": "e54bee34",
   "metadata": {},
   "outputs": [],
   "source": [
    "df2=df.copy()\n",
    "df2['키']=df['키'].apply(add_cm) #함수 add_cm을 적용\n",
    "df2"
   ]
  },
  {
   "cell_type": "code",
   "execution_count": null,
   "id": "797cfc0f",
   "metadata": {},
   "outputs": [],
   "source": [
    "#lamda 함수: 1줄로 작성 가능한 간단한 함수\n",
    "df3=df.copy()\n",
    "df3['키']=df['키'].apply(lambda x:f'{x}cm' if isinstance (x, int) else int(x.replace('cm','')))  # x 변수에 넣어줌 #키 변수 x에 cm를 넣어줌\n",
    "df3 #lambda 를 만족 시 isinstance, 불만족시 replace를 진행(좌함수 / 우함수)"
   ]
  },
  {
   "cell_type": "code",
   "execution_count": null,
   "id": "477de46d",
   "metadata": {},
   "outputs": [],
   "source": [
    "# SW특기를 소문자로 바꾸기\n",
    "df4=df.copy()\n",
    "df4['SW특기']=df['SW특기'].str.lower()\n",
    "df4"
   ]
  },
  {
   "cell_type": "code",
   "execution_count": null,
   "id": "908a22b6",
   "metadata": {},
   "outputs": [],
   "source": [
    "# null이 아닌 경우 소문자로 출력(함수 lower)\n",
    "def lower(sw):\n",
    "    if pd.notnull(sw):\n",
    "        return sw.lower()\n",
    "    else:\n",
    "        return '없음'"
   ]
  },
  {
   "cell_type": "code",
   "execution_count": null,
   "id": "46e25139",
   "metadata": {},
   "outputs": [],
   "source": [
    "df4['SW특기']=df['SW특기'].apply(lower) #함수 lower 적용하여 소문자로 바뀌고 특기 null이면 없음을 출력\n",
    "df4"
   ]
  },
  {
   "cell_type": "code",
   "execution_count": null,
   "id": "2a564705",
   "metadata": {},
   "outputs": [],
   "source": [
    "#apply 함수와 동일 lambda(lower를 지정하지 않고 if-else문을 간단히 작성 가능)\n",
    "df4=df.copy()\n",
    "df4['SW특기']=df['SW특기'].apply(\n",
    "    lambda x:x.lower() if pd.notnull(x) else '없음'\n",
    ")\n",
    "df4"
   ]
  },
  {
   "cell_type": "code",
   "execution_count": 57,
   "id": "73c9f2d2",
   "metadata": {},
   "outputs": [],
   "source": [
    "import numpy as np #null 값 추출 시 필요"
   ]
  },
  {
   "cell_type": "code",
   "execution_count": null,
   "id": "c8018272",
   "metadata": {},
   "outputs": [],
   "source": [
    "#성적표 만들기(지원번호, 점수[국,영,수,과,사]) lambda 사용(tip. 함수 적용 시 apply 사용)\n",
    "df_score=df.loc[:,'국어':'사회'] #행은 모든 함수 가져오기, 열은 점수만\n",
    "df_score['총점']=df_score.apply(\n",
    "    lambda row:sum(row['국어':'사회']), axis=1) #한 행이 필요 axis=한 행씩 가져옴\n",
    "df_score['평균']=df_score.apply(lambda row:row['총점']/5,axis=1) #총점에 /5 나눠 한 행씩 가져옴\n",
    "#과목별 합계(새로운 행 필요)\n",
    "df_score.loc['합계']=df_score.apply(np.mean,axis=0) \n",
    "df_score"
   ]
  }
 ],
 "metadata": {
  "kernelspec": {
   "display_name": "Python 3",
   "language": "python",
   "name": "python3"
  },
  "language_info": {
   "codemirror_mode": {
    "name": "ipython",
    "version": 3
   },
   "file_extension": ".py",
   "mimetype": "text/x-python",
   "name": "python",
   "nbconvert_exporter": "python",
   "pygments_lexer": "ipython3",
   "version": "3.10.10"
  }
 },
 "nbformat": 4,
 "nbformat_minor": 5
}
