{
 "cells": [
  {
   "cell_type": "code",
   "execution_count": 1,
   "id": "718731db",
   "metadata": {},
   "outputs": [],
   "source": [
    "import pandas as pd"
   ]
  },
  {
   "cell_type": "code",
   "execution_count": 7,
   "id": "5d8fea63",
   "metadata": {},
   "outputs": [
    {
     "name": "stdout",
     "output_type": "stream",
     "text": [
      "[-20, -10, 40, 30] <class 'list'>\n"
     ]
    }
   ],
   "source": [
    "temp=[-20,-10,40,30]\n",
    "print(temp, type(temp))"
   ]
  },
  {
   "cell_type": "code",
   "execution_count": 8,
   "id": "263247a4",
   "metadata": {},
   "outputs": [
    {
     "data": {
      "text/plain": [
       "(0   -20\n",
       " 1   -10\n",
       " 2    40\n",
       " 3    30\n",
       " dtype: int64,\n",
       " pandas.core.series.Series)"
      ]
     },
     "execution_count": 8,
     "metadata": {},
     "output_type": "execute_result"
    }
   ],
   "source": [
    "temp=pd.Series(temp)\n",
    "temp, type(temp)"
   ]
  },
  {
   "cell_type": "code",
   "execution_count": 12,
   "id": "619d5cf7",
   "metadata": {},
   "outputs": [
    {
     "name": "stdout",
     "output_type": "stream",
     "text": [
      "1월   -20\n",
      "2월   -10\n",
      "3월    40\n",
      "4월    30\n",
      "dtype: int64 <class 'pandas.core.series.Series'>\n"
     ]
    }
   ],
   "source": [
    "temp=[-20,-10,40,30]\n",
    "temp=pd.Series(temp, index=['1월','2월','3월','4월'])\n",
    "print(temp, type(temp))\n"
   ]
  }
 ],
 "metadata": {
  "kernelspec": {
   "display_name": "Python 3",
   "language": "python",
   "name": "python3"
  },
  "language_info": {
   "codemirror_mode": {
    "name": "ipython",
    "version": 3
   },
   "file_extension": ".py",
   "mimetype": "text/x-python",
   "name": "python",
   "nbconvert_exporter": "python",
   "pygments_lexer": "ipython3",
   "version": "3.10.10"
  }
 },
 "nbformat": 4,
 "nbformat_minor": 5
}
